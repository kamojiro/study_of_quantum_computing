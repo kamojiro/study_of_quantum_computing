{
 "cells": [
  {
   "cell_type": "markdown",
   "metadata": {
    "colab_type": "text",
    "id": "BKPV3IMSFRRF"
   },
   "source": [
    "# **Pythonを使った機械学習入門 (1)**\n",
    "\n",
    "Pythonを使ったごく簡単な機械学習利用法を説明します．\n",
    "\n",
    "# **Pythonの基本的な文法**"
   ]
  },
  {
   "cell_type": "markdown",
   "metadata": {
    "colab_type": "text",
    "id": "giP42DXNFjGF"
   },
   "source": [
    "まずはnumpyをimportします．そうすることで行列演算ができるようになります．"
   ]
  },
  {
   "cell_type": "code",
   "execution_count": 0,
   "metadata": {
    "colab": {},
    "colab_type": "code",
    "id": "3Z2qm0hyGBdU"
   },
   "outputs": [],
   "source": [
    "import numpy as np"
   ]
  },
  {
   "cell_type": "markdown",
   "metadata": {
    "colab_type": "text",
    "id": "Zcoaoh22FIGE"
   },
   "source": [
    "# **配列・行列の定義**\n",
    "多次元配列のnp.ndarrayはNumpyの中でも最も重要なクラスです．np.ndarrayはN次元配列を扱うクラスです．"
   ]
  },
  {
   "cell_type": "code",
   "execution_count": 0,
   "metadata": {
    "colab": {
     "base_uri": "https://localhost:8080/",
     "height": 34
    },
    "colab_type": "code",
    "executionInfo": {
     "elapsed": 536,
     "status": "ok",
     "timestamp": 1544881306790,
     "user": {
      "displayName": "Taiji Suzuki",
      "photoUrl": "https://lh5.googleusercontent.com/-v6c-S2veRaY/AAAAAAAAAAI/AAAAAAAAAAA/RtwtfdQn2-g/s64/photo.jpg",
      "userId": "08886137675846818283"
     },
     "user_tz": -540
    },
    "id": "DCXu1N5zGAzL",
    "outputId": "eb571952-c161-401b-cb48-d5dda3ac2d7e"
   },
   "outputs": [
    {
     "data": {
      "text/plain": [
       "[1, 2, 3]"
      ]
     },
     "execution_count": 6,
     "metadata": {
      "tags": []
     },
     "output_type": "execute_result"
    }
   ],
   "source": [
    "x = np.array([1, 2, 3])  #配列の定義\n",
    "x"
   ]
  },
  {
   "cell_type": "code",
   "execution_count": 0,
   "metadata": {
    "colab": {
     "base_uri": "https://localhost:8080/",
     "height": 34
    },
    "colab_type": "code",
    "executionInfo": {
     "elapsed": 594,
     "status": "ok",
     "timestamp": 1544881314695,
     "user": {
      "displayName": "Taiji Suzuki",
      "photoUrl": "https://lh5.googleusercontent.com/-v6c-S2veRaY/AAAAAAAAAAI/AAAAAAAAAAA/RtwtfdQn2-g/s64/photo.jpg",
      "userId": "08886137675846818283"
     },
     "user_tz": -540
    },
    "id": "UjRHJ_pvGYw3",
    "outputId": "5b054285-ffdd-4936-e11d-977a0486006d"
   },
   "outputs": [
    {
     "data": {
      "text/plain": [
       "[1, 2, 3]"
      ]
     },
     "execution_count": 7,
     "metadata": {
      "tags": []
     },
     "output_type": "execute_result"
    }
   ],
   "source": [
    "x = [1,2,3]\n",
    "x"
   ]
  },
  {
   "cell_type": "code",
   "execution_count": 0,
   "metadata": {
    "colab": {
     "base_uri": "https://localhost:8080/",
     "height": 52
    },
    "colab_type": "code",
    "executionInfo": {
     "elapsed": 568,
     "status": "ok",
     "timestamp": 1544881328383,
     "user": {
      "displayName": "Taiji Suzuki",
      "photoUrl": "https://lh5.googleusercontent.com/-v6c-S2veRaY/AAAAAAAAAAI/AAAAAAAAAAA/RtwtfdQn2-g/s64/photo.jpg",
      "userId": "08886137675846818283"
     },
     "user_tz": -540
    },
    "id": "wx9dPVgQGiQO",
    "outputId": "827be72b-c2a5-497b-ef4f-9583155563d8"
   },
   "outputs": [
    {
     "data": {
      "text/plain": [
       "array([[1., 2.],\n",
       "       [0., 3.]])"
      ]
     },
     "execution_count": 8,
     "metadata": {
      "tags": []
     },
     "output_type": "execute_result"
    }
   ],
   "source": [
    "x = np.array([[1, 2], [0, 3.0]])  #二次元配列の定義\n",
    "x"
   ]
  },
  {
   "cell_type": "code",
   "execution_count": 0,
   "metadata": {
    "colab": {
     "base_uri": "https://localhost:8080/",
     "height": 52
    },
    "colab_type": "code",
    "executionInfo": {
     "elapsed": 503,
     "status": "ok",
     "timestamp": 1544881362544,
     "user": {
      "displayName": "Taiji Suzuki",
      "photoUrl": "https://lh5.googleusercontent.com/-v6c-S2veRaY/AAAAAAAAAAI/AAAAAAAAAAA/RtwtfdQn2-g/s64/photo.jpg",
      "userId": "08886137675846818283"
     },
     "user_tz": -540
    },
    "id": "we1EPH6XGX2e",
    "outputId": "0d376de9-ce43-4189-98fd-41b7c9ee17ce"
   },
   "outputs": [
    {
     "data": {
      "text/plain": [
       "array([[1., 0.],\n",
       "       [2., 3.]])"
      ]
     },
     "execution_count": 9,
     "metadata": {
      "tags": []
     },
     "output_type": "execute_result"
    }
   ],
   "source": [
    "x.T"
   ]
  },
  {
   "cell_type": "code",
   "execution_count": 0,
   "metadata": {
    "colab": {
     "base_uri": "https://localhost:8080/",
     "height": 52
    },
    "colab_type": "code",
    "executionInfo": {
     "elapsed": 564,
     "status": "ok",
     "timestamp": 1544881390518,
     "user": {
      "displayName": "Taiji Suzuki",
      "photoUrl": "https://lh5.googleusercontent.com/-v6c-S2veRaY/AAAAAAAAAAI/AAAAAAAAAAA/RtwtfdQn2-g/s64/photo.jpg",
      "userId": "08886137675846818283"
     },
     "user_tz": -540
    },
    "id": "54ndK3OgGtQ-",
    "outputId": "0d078fba-cfe1-424f-ca88-b7f6f6798fc2"
   },
   "outputs": [
    {
     "data": {
      "text/plain": [
       "array([[ 1.,  2.,  3.],\n",
       "       [10., 20., 30.]])"
      ]
     },
     "execution_count": 11,
     "metadata": {
      "tags": []
     },
     "output_type": "execute_result"
    }
   ],
   "source": [
    "x = np.array([1.0, 2.0, 3.0])\n",
    "y = np.array([x, (10, 20, 30)]) #配列の結合\n",
    "y"
   ]
  },
  {
   "cell_type": "code",
   "execution_count": 0,
   "metadata": {
    "colab": {
     "base_uri": "https://localhost:8080/",
     "height": 52
    },
    "colab_type": "code",
    "executionInfo": {
     "elapsed": 546,
     "status": "ok",
     "timestamp": 1544881411903,
     "user": {
      "displayName": "Taiji Suzuki",
      "photoUrl": "https://lh5.googleusercontent.com/-v6c-S2veRaY/AAAAAAAAAAI/AAAAAAAAAAA/RtwtfdQn2-g/s64/photo.jpg",
      "userId": "08886137675846818283"
     },
     "user_tz": -540
    },
    "id": "c3xJ1HanGzW2",
    "outputId": "92525120-9cc9-4104-dbd8-1a94c3a991d3"
   },
   "outputs": [
    {
     "data": {
      "text/plain": [
       "array([[0., 0., 0.],\n",
       "       [0., 0., 0.]])"
      ]
     },
     "execution_count": 13,
     "metadata": {
      "tags": []
     },
     "output_type": "execute_result"
    }
   ],
   "source": [
    "x = np.zeros((2,3)) #0 行列の定義\n",
    "x  "
   ]
  },
  {
   "cell_type": "code",
   "execution_count": 0,
   "metadata": {
    "colab": {
     "base_uri": "https://localhost:8080/",
     "height": 70
    },
    "colab_type": "code",
    "executionInfo": {
     "elapsed": 504,
     "status": "ok",
     "timestamp": 1544881421424,
     "user": {
      "displayName": "Taiji Suzuki",
      "photoUrl": "https://lh5.googleusercontent.com/-v6c-S2veRaY/AAAAAAAAAAI/AAAAAAAAAAA/RtwtfdQn2-g/s64/photo.jpg",
      "userId": "08886137675846818283"
     },
     "user_tz": -540
    },
    "id": "8ebxRnERG20X",
    "outputId": "5a2a92a1-1008-4c7c-8cbb-6efc6341d095"
   },
   "outputs": [
    {
     "data": {
      "text/plain": [
       "array([[1., 1., 1., 1.],\n",
       "       [1., 1., 1., 1.],\n",
       "       [1., 1., 1., 1.]])"
      ]
     },
     "execution_count": 14,
     "metadata": {
      "tags": []
     },
     "output_type": "execute_result"
    }
   ],
   "source": [
    "x = np.ones((3,4)) #1 行列の定義\n",
    "x"
   ]
  },
  {
   "cell_type": "code",
   "execution_count": 0,
   "metadata": {
    "colab": {
     "base_uri": "https://localhost:8080/",
     "height": 70
    },
    "colab_type": "code",
    "executionInfo": {
     "elapsed": 516,
     "status": "ok",
     "timestamp": 1544881440696,
     "user": {
      "displayName": "Taiji Suzuki",
      "photoUrl": "https://lh5.googleusercontent.com/-v6c-S2veRaY/AAAAAAAAAAI/AAAAAAAAAAA/RtwtfdQn2-g/s64/photo.jpg",
      "userId": "08886137675846818283"
     },
     "user_tz": -540
    },
    "id": "x6flfIDnG7pG",
    "outputId": "e4585f69-9536-40cf-d2b5-e278d9cfedbb"
   },
   "outputs": [
    {
     "data": {
      "text/plain": [
       "array([[1., 0., 0.],\n",
       "       [0., 1., 0.],\n",
       "       [0., 0., 1.]])"
      ]
     },
     "execution_count": 15,
     "metadata": {
      "tags": []
     },
     "output_type": "execute_result"
    }
   ],
   "source": [
    "x = np.eye(3) #単位行列の定義\n",
    "x"
   ]
  },
  {
   "cell_type": "code",
   "execution_count": 0,
   "metadata": {
    "colab": {
     "base_uri": "https://localhost:8080/",
     "height": 34
    },
    "colab_type": "code",
    "executionInfo": {
     "elapsed": 533,
     "status": "ok",
     "timestamp": 1544881453828,
     "user": {
      "displayName": "Taiji Suzuki",
      "photoUrl": "https://lh5.googleusercontent.com/-v6c-S2veRaY/AAAAAAAAAAI/AAAAAAAAAAA/RtwtfdQn2-g/s64/photo.jpg",
      "userId": "08886137675846818283"
     },
     "user_tz": -540
    },
    "id": "NwT9-RFMHAWG",
    "outputId": "704794a7-e824-487c-f0a0-3973d7f03a07"
   },
   "outputs": [
    {
     "data": {
      "text/plain": [
       "array([0, 1, 2, 3, 4, 5, 6, 7, 8])"
      ]
     },
     "execution_count": 16,
     "metadata": {
      "tags": []
     },
     "output_type": "execute_result"
    }
   ],
   "source": [
    "x = np.arange(9)  #インデックスの作成\n",
    "x"
   ]
  },
  {
   "cell_type": "code",
   "execution_count": 0,
   "metadata": {
    "colab": {
     "base_uri": "https://localhost:8080/",
     "height": 34
    },
    "colab_type": "code",
    "executionInfo": {
     "elapsed": 545,
     "status": "ok",
     "timestamp": 1544881472987,
     "user": {
      "displayName": "Taiji Suzuki",
      "photoUrl": "https://lh5.googleusercontent.com/-v6c-S2veRaY/AAAAAAAAAAI/AAAAAAAAAAA/RtwtfdQn2-g/s64/photo.jpg",
      "userId": "08886137675846818283"
     },
     "user_tz": -540
    },
    "id": "zVRD1RbwHDi3",
    "outputId": "28277611-4428-4c52-bdce-14e549e1295f"
   },
   "outputs": [
    {
     "data": {
      "text/plain": [
       "array([2, 3, 4, 5, 6, 7, 8])"
      ]
     },
     "execution_count": 17,
     "metadata": {
      "tags": []
     },
     "output_type": "execute_result"
    }
   ],
   "source": [
    "x = np.arange(2,9)  #区間の指定\n",
    "x"
   ]
  },
  {
   "cell_type": "code",
   "execution_count": 0,
   "metadata": {
    "colab": {
     "base_uri": "https://localhost:8080/",
     "height": 105
    },
    "colab_type": "code",
    "executionInfo": {
     "elapsed": 520,
     "status": "ok",
     "timestamp": 1544881560381,
     "user": {
      "displayName": "Taiji Suzuki",
      "photoUrl": "https://lh5.googleusercontent.com/-v6c-S2veRaY/AAAAAAAAAAI/AAAAAAAAAAA/RtwtfdQn2-g/s64/photo.jpg",
      "userId": "08886137675846818283"
     },
     "user_tz": -540
    },
    "id": "fQuHU_SaHIOG",
    "outputId": "041d3077-3cfb-4a0b-8890-fe5f0197496c"
   },
   "outputs": [
    {
     "name": "stdout",
     "output_type": "stream",
     "text": [
      "(4, 4)\n",
      "[[ 0  1  2  3]\n",
      " [ 4  5  6  7]\n",
      " [ 8  9 10 11]\n",
      " [12 13 14 15]]\n"
     ]
    }
   ],
   "source": [
    "x = np.arange(16)\n",
    "x = x.reshape((4,4))  #4x4行列にshapeを変更\n",
    "print(x.shape)  #shape (形状) の確認\n",
    "print(x)"
   ]
  },
  {
   "cell_type": "code",
   "execution_count": 0,
   "metadata": {
    "colab": {
     "base_uri": "https://localhost:8080/",
     "height": 87
    },
    "colab_type": "code",
    "executionInfo": {
     "elapsed": 503,
     "status": "ok",
     "timestamp": 1544881591693,
     "user": {
      "displayName": "Taiji Suzuki",
      "photoUrl": "https://lh5.googleusercontent.com/-v6c-S2veRaY/AAAAAAAAAAI/AAAAAAAAAAA/RtwtfdQn2-g/s64/photo.jpg",
      "userId": "08886137675846818283"
     },
     "user_tz": -540
    },
    "id": "7CDmRJVNHMdu",
    "outputId": "b833e67f-f3ee-4eb8-bdd8-ed041d4ff6e3"
   },
   "outputs": [
    {
     "data": {
      "text/plain": [
       "array([[ 0,  1,  2,  3],\n",
       "       [ 4,  5,  6,  7],\n",
       "       [ 8,  9, 10, 11],\n",
       "       [12, 13, 14, 15]])"
      ]
     },
     "execution_count": 24,
     "metadata": {
      "tags": []
     },
     "output_type": "execute_result"
    }
   ],
   "source": [
    "x = np.arange(16).reshape((4,4))  #一行で書く場合\n",
    "x"
   ]
  },
  {
   "cell_type": "markdown",
   "metadata": {
    "colab_type": "text",
    "id": "mnWGJS-3Hnsf"
   },
   "source": [
    "# **行列のインデックス操作**"
   ]
  },
  {
   "cell_type": "code",
   "execution_count": 0,
   "metadata": {
    "colab": {
     "base_uri": "https://localhost:8080/",
     "height": 34
    },
    "colab_type": "code",
    "executionInfo": {
     "elapsed": 550,
     "status": "ok",
     "timestamp": 1544881637954,
     "user": {
      "displayName": "Taiji Suzuki",
      "photoUrl": "https://lh5.googleusercontent.com/-v6c-S2veRaY/AAAAAAAAAAI/AAAAAAAAAAA/RtwtfdQn2-g/s64/photo.jpg",
      "userId": "08886137675846818283"
     },
     "user_tz": -540
    },
    "id": "6DlctpQ5HnEh",
    "outputId": "88274c95-79cd-4345-dd1b-b6c941ebea66"
   },
   "outputs": [
    {
     "data": {
      "text/plain": [
       "6"
      ]
     },
     "execution_count": 25,
     "metadata": {
      "tags": []
     },
     "output_type": "execute_result"
    }
   ],
   "source": [
    "x = np.arange(16).reshape((4,4))\n",
    "x[1,2] #2行，3列成分を抽出 (インデックスは0から開始)"
   ]
  },
  {
   "cell_type": "code",
   "execution_count": 0,
   "metadata": {
    "colab": {
     "base_uri": "https://localhost:8080/",
     "height": 52
    },
    "colab_type": "code",
    "executionInfo": {
     "elapsed": 649,
     "status": "ok",
     "timestamp": 1544881695160,
     "user": {
      "displayName": "Taiji Suzuki",
      "photoUrl": "https://lh5.googleusercontent.com/-v6c-S2veRaY/AAAAAAAAAAI/AAAAAAAAAAA/RtwtfdQn2-g/s64/photo.jpg",
      "userId": "08886137675846818283"
     },
     "user_tz": -540
    },
    "id": "o29CLwuQHlNf",
    "outputId": "c0400011-2867-49c8-f7e2-e079a9ac3877"
   },
   "outputs": [
    {
     "data": {
      "text/plain": [
       "array([[0, 1, 2, 3],\n",
       "       [4, 5, 6, 7]])"
      ]
     },
     "execution_count": 27,
     "metadata": {
      "tags": []
     },
     "output_type": "execute_result"
    }
   ],
   "source": [
    "x[0:2] #1から2行目までを取り出し (3行目までではないことに注意，最後のインデックスは+1しない)"
   ]
  },
  {
   "cell_type": "code",
   "execution_count": 0,
   "metadata": {
    "colab": {
     "base_uri": "https://localhost:8080/",
     "height": 52
    },
    "colab_type": "code",
    "executionInfo": {
     "elapsed": 489,
     "status": "ok",
     "timestamp": 1544881702733,
     "user": {
      "displayName": "Taiji Suzuki",
      "photoUrl": "https://lh5.googleusercontent.com/-v6c-S2veRaY/AAAAAAAAAAI/AAAAAAAAAAA/RtwtfdQn2-g/s64/photo.jpg",
      "userId": "08886137675846818283"
     },
     "user_tz": -540
    },
    "id": "I-8wEeXOH85l",
    "outputId": "96ecdd89-73a5-474a-84b6-37ad413fbc86"
   },
   "outputs": [
    {
     "data": {
      "text/plain": [
       "array([[1, 2],\n",
       "       [5, 6]])"
      ]
     },
     "execution_count": 28,
     "metadata": {
      "tags": []
     },
     "output_type": "execute_result"
    }
   ],
   "source": [
    "x[0:2,1:3] #部分行列の取り出し "
   ]
  },
  {
   "cell_type": "code",
   "execution_count": 0,
   "metadata": {
    "colab": {
     "base_uri": "https://localhost:8080/",
     "height": 52
    },
    "colab_type": "code",
    "executionInfo": {
     "elapsed": 556,
     "status": "ok",
     "timestamp": 1544881759665,
     "user": {
      "displayName": "Taiji Suzuki",
      "photoUrl": "https://lh5.googleusercontent.com/-v6c-S2veRaY/AAAAAAAAAAI/AAAAAAAAAAA/RtwtfdQn2-g/s64/photo.jpg",
      "userId": "08886137675846818283"
     },
     "user_tz": -540
    },
    "id": "chNHwHZiIAUd",
    "outputId": "a69898b4-a9d0-42b2-84e0-be5b4a5bc4d0"
   },
   "outputs": [
    {
     "data": {
      "text/plain": [
       "array([[ 8,  9, 10, 11],\n",
       "       [12, 13, 14, 15]])"
      ]
     },
     "execution_count": 30,
     "metadata": {
      "tags": []
     },
     "output_type": "execute_result"
    }
   ],
   "source": [
    "x[2:] #3行以降全部"
   ]
  },
  {
   "cell_type": "code",
   "execution_count": 0,
   "metadata": {
    "colab": {
     "base_uri": "https://localhost:8080/",
     "height": 70
    },
    "colab_type": "code",
    "executionInfo": {
     "elapsed": 496,
     "status": "ok",
     "timestamp": 1544881818120,
     "user": {
      "displayName": "Taiji Suzuki",
      "photoUrl": "https://lh5.googleusercontent.com/-v6c-S2veRaY/AAAAAAAAAAI/AAAAAAAAAAA/RtwtfdQn2-g/s64/photo.jpg",
      "userId": "08886137675846818283"
     },
     "user_tz": -540
    },
    "id": "KgPnG-gAIB-N",
    "outputId": "32dcc2bc-81a1-4b3d-b9ce-06858d869561"
   },
   "outputs": [
    {
     "data": {
      "text/plain": [
       "array([[ 0,  1,  2,  3],\n",
       "       [ 4,  5,  6,  7],\n",
       "       [ 8,  9, 10, 11]])"
      ]
     },
     "execution_count": 31,
     "metadata": {
      "tags": []
     },
     "output_type": "execute_result"
    }
   ],
   "source": [
    "x[:-1] #最後から 1 行目まで "
   ]
  },
  {
   "cell_type": "code",
   "execution_count": 0,
   "metadata": {
    "colab": {
     "base_uri": "https://localhost:8080/",
     "height": 34
    },
    "colab_type": "code",
    "executionInfo": {
     "elapsed": 494,
     "status": "ok",
     "timestamp": 1544881826488,
     "user": {
      "displayName": "Taiji Suzuki",
      "photoUrl": "https://lh5.googleusercontent.com/-v6c-S2veRaY/AAAAAAAAAAI/AAAAAAAAAAA/RtwtfdQn2-g/s64/photo.jpg",
      "userId": "08886137675846818283"
     },
     "user_tz": -540
    },
    "id": "8TWb1iGiIcfc",
    "outputId": "98113f45-0a8b-474e-ea1e-cbcf3d818a7e"
   },
   "outputs": [
    {
     "data": {
      "text/plain": [
       "array([ 3,  7, 11, 15])"
      ]
     },
     "execution_count": 32,
     "metadata": {
      "tags": []
     },
     "output_type": "execute_result"
    }
   ],
   "source": [
    "x[:,3] #4 列めの取り出し "
   ]
  },
  {
   "cell_type": "markdown",
   "metadata": {
    "colab_type": "text",
    "id": "tCRSZjtjIiJm"
   },
   "source": [
    "# **行列の演算**"
   ]
  },
  {
   "cell_type": "code",
   "execution_count": 0,
   "metadata": {
    "colab": {
     "base_uri": "https://localhost:8080/",
     "height": 87
    },
    "colab_type": "code",
    "executionInfo": {
     "elapsed": 548,
     "status": "ok",
     "timestamp": 1544882505541,
     "user": {
      "displayName": "Taiji Suzuki",
      "photoUrl": "https://lh5.googleusercontent.com/-v6c-S2veRaY/AAAAAAAAAAI/AAAAAAAAAAA/RtwtfdQn2-g/s64/photo.jpg",
      "userId": "08886137675846818283"
     },
     "user_tz": -540
    },
    "id": "8G66Dzc0IeiM",
    "outputId": "b8b9e895-8275-4943-af42-2e3c71f4e171"
   },
   "outputs": [
    {
     "name": "stdout",
     "output_type": "stream",
     "text": [
      "[[1. 0.]\n",
      " [0. 3.]]\n",
      "[[0. 2.]\n",
      " [3. 4.]]\n"
     ]
    }
   ],
   "source": [
    "a = np.array([[1, 0], [0, 3.0]])\n",
    "b = np.array([[0, 2], [3, 4.0]])\n",
    "print(a)\n",
    "print(b)"
   ]
  },
  {
   "cell_type": "markdown",
   "metadata": {
    "colab_type": "text",
    "id": "QubtZZc4I2oy"
   },
   "source": [
    "行列の足し算，掛け算をしてみる"
   ]
  },
  {
   "cell_type": "code",
   "execution_count": 0,
   "metadata": {
    "colab": {
     "base_uri": "https://localhost:8080/",
     "height": 52
    },
    "colab_type": "code",
    "executionInfo": {
     "elapsed": 541,
     "status": "ok",
     "timestamp": 1544881939083,
     "user": {
      "displayName": "Taiji Suzuki",
      "photoUrl": "https://lh5.googleusercontent.com/-v6c-S2veRaY/AAAAAAAAAAI/AAAAAAAAAAA/RtwtfdQn2-g/s64/photo.jpg",
      "userId": "08886137675846818283"
     },
     "user_tz": -540
    },
    "id": "fLJ-JrB-I1Bm",
    "outputId": "2ae765dd-2cf2-4938-a5af-54fdabc6d33b"
   },
   "outputs": [
    {
     "data": {
      "text/plain": [
       "array([[1., 2.],\n",
       "       [3., 7.]])"
      ]
     },
     "execution_count": 39,
     "metadata": {
      "tags": []
     },
     "output_type": "execute_result"
    }
   ],
   "source": [
    "a+b #行列の足し算 "
   ]
  },
  {
   "cell_type": "code",
   "execution_count": 0,
   "metadata": {
    "colab": {
     "base_uri": "https://localhost:8080/",
     "height": 52
    },
    "colab_type": "code",
    "executionInfo": {
     "elapsed": 554,
     "status": "ok",
     "timestamp": 1544881951108,
     "user": {
      "displayName": "Taiji Suzuki",
      "photoUrl": "https://lh5.googleusercontent.com/-v6c-S2veRaY/AAAAAAAAAAI/AAAAAAAAAAA/RtwtfdQn2-g/s64/photo.jpg",
      "userId": "08886137675846818283"
     },
     "user_tz": -540
    },
    "id": "RSlPCNUoI6rB",
    "outputId": "35de0f21-bbe6-41b8-f0f7-54dcc4ec990e"
   },
   "outputs": [
    {
     "data": {
      "text/plain": [
       "array([[ 1., -2.],\n",
       "       [-3., -1.]])"
      ]
     },
     "execution_count": 40,
     "metadata": {
      "tags": []
     },
     "output_type": "execute_result"
    }
   ],
   "source": [
    "a-b #行列の引き算 "
   ]
  },
  {
   "cell_type": "code",
   "execution_count": 0,
   "metadata": {
    "colab": {
     "base_uri": "https://localhost:8080/",
     "height": 52
    },
    "colab_type": "code",
    "executionInfo": {
     "elapsed": 523,
     "status": "ok",
     "timestamp": 1544881881110,
     "user": {
      "displayName": "Taiji Suzuki",
      "photoUrl": "https://lh5.googleusercontent.com/-v6c-S2veRaY/AAAAAAAAAAI/AAAAAAAAAAA/RtwtfdQn2-g/s64/photo.jpg",
      "userId": "08886137675846818283"
     },
     "user_tz": -540
    },
    "id": "zkPTW5b0Ip_8",
    "outputId": "9304e4b7-8b2f-4df4-ad1d-840a06d219b5"
   },
   "outputs": [
    {
     "data": {
      "text/plain": [
       "array([[ 0.,  2.],\n",
       "       [ 9., 12.]])"
      ]
     },
     "execution_count": 34,
     "metadata": {
      "tags": []
     },
     "output_type": "execute_result"
    }
   ],
   "source": [
    "np.dot(a,b) #行列の掛け算 "
   ]
  },
  {
   "cell_type": "code",
   "execution_count": 0,
   "metadata": {
    "colab": {
     "base_uri": "https://localhost:8080/",
     "height": 52
    },
    "colab_type": "code",
    "executionInfo": {
     "elapsed": 507,
     "status": "ok",
     "timestamp": 1544882437530,
     "user": {
      "displayName": "Taiji Suzuki",
      "photoUrl": "https://lh5.googleusercontent.com/-v6c-S2veRaY/AAAAAAAAAAI/AAAAAAAAAAA/RtwtfdQn2-g/s64/photo.jpg",
      "userId": "08886137675846818283"
     },
     "user_tz": -540
    },
    "id": "QAL_GTPMKwmK",
    "outputId": "97a60b9e-e815-4fd5-9cb1-2796da4fde54"
   },
   "outputs": [
    {
     "data": {
      "text/plain": [
       "array([[ 0.,  2.],\n",
       "       [ 9., 12.]])"
      ]
     },
     "execution_count": 45,
     "metadata": {
      "tags": []
     },
     "output_type": "execute_result"
    }
   ],
   "source": [
    "a.dot(b) #こう書いてもよい：行列の掛け算"
   ]
  },
  {
   "cell_type": "code",
   "execution_count": 0,
   "metadata": {
    "colab": {
     "base_uri": "https://localhost:8080/",
     "height": 52
    },
    "colab_type": "code",
    "executionInfo": {
     "elapsed": 549,
     "status": "ok",
     "timestamp": 1544882493220,
     "user": {
      "displayName": "Taiji Suzuki",
      "photoUrl": "https://lh5.googleusercontent.com/-v6c-S2veRaY/AAAAAAAAAAI/AAAAAAAAAAA/RtwtfdQn2-g/s64/photo.jpg",
      "userId": "08886137675846818283"
     },
     "user_tz": -540
    },
    "id": "uwtlay-JK5gv",
    "outputId": "1c2d5b69-109e-4a38-c1a1-bb7e5111e700"
   },
   "outputs": [
    {
     "data": {
      "text/plain": [
       "array([[ 0.,  2.],\n",
       "       [ 9., 12.]])"
      ]
     },
     "execution_count": 47,
     "metadata": {
      "tags": []
     },
     "output_type": "execute_result"
    }
   ],
   "source": [
    "a @ b  #Python 3.5以降で利用可能：行列の掛け算"
   ]
  },
  {
   "cell_type": "code",
   "execution_count": 0,
   "metadata": {
    "colab": {
     "base_uri": "https://localhost:8080/",
     "height": 52
    },
    "colab_type": "code",
    "executionInfo": {
     "elapsed": 492,
     "status": "ok",
     "timestamp": 1544881886935,
     "user": {
      "displayName": "Taiji Suzuki",
      "photoUrl": "https://lh5.googleusercontent.com/-v6c-S2veRaY/AAAAAAAAAAI/AAAAAAAAAAA/RtwtfdQn2-g/s64/photo.jpg",
      "userId": "08886137675846818283"
     },
     "user_tz": -540
    },
    "id": "VBUx26swIr3V",
    "outputId": "45dbfa5a-ff8e-4043-a70b-017a61db4f57"
   },
   "outputs": [
    {
     "data": {
      "text/plain": [
       "array([[ 0.,  0.],\n",
       "       [ 0., 12.]])"
      ]
     },
     "execution_count": 35,
     "metadata": {
      "tags": []
     },
     "output_type": "execute_result"
    }
   ],
   "source": [
    "a*b #要素ごとの掛け算 "
   ]
  },
  {
   "cell_type": "markdown",
   "metadata": {
    "colab_type": "text",
    "id": "WNGI00gbI_QO"
   },
   "source": [
    "線形方程式を解いてみる．\n",
    "\n",
    "ax = cを解く．ここで，np.linalgはnumpyに含まれる線形代数計算用のモジュールである．"
   ]
  },
  {
   "cell_type": "code",
   "execution_count": 0,
   "metadata": {
    "colab": {
     "base_uri": "https://localhost:8080/",
     "height": 34
    },
    "colab_type": "code",
    "executionInfo": {
     "elapsed": 533,
     "status": "ok",
     "timestamp": 1544881984031,
     "user": {
      "displayName": "Taiji Suzuki",
      "photoUrl": "https://lh5.googleusercontent.com/-v6c-S2veRaY/AAAAAAAAAAI/AAAAAAAAAAA/RtwtfdQn2-g/s64/photo.jpg",
      "userId": "08886137675846818283"
     },
     "user_tz": -540
    },
    "id": "1g9ovTZZItSs",
    "outputId": "fd62632d-73ef-4210-ef17-7da7d12ec422"
   },
   "outputs": [
    {
     "data": {
      "text/plain": [
       "array([1.        , 0.66666667])"
      ]
     },
     "execution_count": 42,
     "metadata": {
      "tags": []
     },
     "output_type": "execute_result"
    }
   ],
   "source": [
    "c = np.array([1,2])\n",
    "np.linalg.solve(a,c) #ax = c を解く "
   ]
  },
  {
   "cell_type": "code",
   "execution_count": 0,
   "metadata": {
    "colab": {
     "base_uri": "https://localhost:8080/",
     "height": 52
    },
    "colab_type": "code",
    "executionInfo": {
     "elapsed": 529,
     "status": "ok",
     "timestamp": 1544881992940,
     "user": {
      "displayName": "Taiji Suzuki",
      "photoUrl": "https://lh5.googleusercontent.com/-v6c-S2veRaY/AAAAAAAAAAI/AAAAAAAAAAA/RtwtfdQn2-g/s64/photo.jpg",
      "userId": "08886137675846818283"
     },
     "user_tz": -540
    },
    "id": "kMdkNCDyIu29",
    "outputId": "80ea03fc-ece8-437d-d6ef-93bd94b3789e"
   },
   "outputs": [
    {
     "data": {
      "text/plain": [
       "array([[1.        , 0.        ],\n",
       "       [0.        , 0.33333333]])"
      ]
     },
     "execution_count": 43,
     "metadata": {
      "tags": []
     },
     "output_type": "execute_result"
    }
   ],
   "source": [
    "np.linalg.inv(a) #a の逆行列を計算"
   ]
  },
  {
   "cell_type": "markdown",
   "metadata": {
    "colab_type": "text",
    "id": "FoKR_c0NJVIT"
   },
   "source": [
    "# **乱数の生成**"
   ]
  },
  {
   "cell_type": "markdown",
   "metadata": {
    "colab_type": "text",
    "id": "425ljQR7Lwdd"
   },
   "source": [
    "一様乱数の生成"
   ]
  },
  {
   "cell_type": "code",
   "execution_count": 0,
   "metadata": {
    "colab": {
     "base_uri": "https://localhost:8080/",
     "height": 70
    },
    "colab_type": "code",
    "executionInfo": {
     "elapsed": 591,
     "status": "ok",
     "timestamp": 1544882676175,
     "user": {
      "displayName": "Taiji Suzuki",
      "photoUrl": "https://lh5.googleusercontent.com/-v6c-S2veRaY/AAAAAAAAAAI/AAAAAAAAAAA/RtwtfdQn2-g/s64/photo.jpg",
      "userId": "08886137675846818283"
     },
     "user_tz": -540
    },
    "id": "lpml0ieKIwkt",
    "outputId": "66f4631d-aa88-4ba4-80fc-fe4451d446c6"
   },
   "outputs": [
    {
     "data": {
      "text/plain": [
       "array([[0.30907685, 0.94410023, 0.31140919, 0.90945055],\n",
       "       [0.60526068, 0.59301579, 0.80760763, 0.93438235],\n",
       "       [0.60641165, 0.46631257, 0.69561724, 0.66863372]])"
      ]
     },
     "execution_count": 50,
     "metadata": {
      "tags": []
     },
     "output_type": "execute_result"
    }
   ],
   "source": [
    "x = np.random.rand(3,4) #サイズ3x4の[0,1]区間一様乱数を各要素に格納した行列を生成\n",
    "x"
   ]
  },
  {
   "cell_type": "markdown",
   "metadata": {
    "colab_type": "text",
    "id": "ptRALqd7L5dg"
   },
   "source": [
    "正規分布の生成"
   ]
  },
  {
   "cell_type": "code",
   "execution_count": 0,
   "metadata": {
    "colab": {
     "base_uri": "https://localhost:8080/",
     "height": 70
    },
    "colab_type": "code",
    "executionInfo": {
     "elapsed": 504,
     "status": "ok",
     "timestamp": 1544882742373,
     "user": {
      "displayName": "Taiji Suzuki",
      "photoUrl": "https://lh5.googleusercontent.com/-v6c-S2veRaY/AAAAAAAAAAI/AAAAAAAAAAA/RtwtfdQn2-g/s64/photo.jpg",
      "userId": "08886137675846818283"
     },
     "user_tz": -540
    },
    "id": "tfWOoiOaLs2x",
    "outputId": "960d46fa-5cba-40d5-8311-0f43c7f8dadc"
   },
   "outputs": [
    {
     "data": {
      "text/plain": [
       "array([[-0.52973913, -0.6113448 ,  1.35375645,  0.55996221],\n",
       "       [-1.09430255, -1.01188131,  0.1399825 ,  0.03416619],\n",
       "       [-0.38232753,  0.09357713, -1.45585344, -1.68716457]])"
      ]
     },
     "execution_count": 51,
     "metadata": {
      "tags": []
     },
     "output_type": "execute_result"
    }
   ],
   "source": [
    "x = np.random.randn(3,4)\n",
    "x"
   ]
  },
  {
   "cell_type": "markdown",
   "metadata": {
    "colab_type": "text",
    "id": "KSd_PuzoL_7r"
   },
   "source": [
    "二項分布"
   ]
  },
  {
   "cell_type": "code",
   "execution_count": 0,
   "metadata": {
    "colab": {
     "base_uri": "https://localhost:8080/",
     "height": 34
    },
    "colab_type": "code",
    "executionInfo": {
     "elapsed": 507,
     "status": "ok",
     "timestamp": 1544882762674,
     "user": {
      "displayName": "Taiji Suzuki",
      "photoUrl": "https://lh5.googleusercontent.com/-v6c-S2veRaY/AAAAAAAAAAI/AAAAAAAAAAA/RtwtfdQn2-g/s64/photo.jpg",
      "userId": "08886137675846818283"
     },
     "user_tz": -540
    },
    "id": "q-A1R46ML-Io",
    "outputId": "52a2bfa2-abc7-4c5c-a78f-1ab860910e08"
   },
   "outputs": [
    {
     "data": {
      "text/plain": [
       "36"
      ]
     },
     "execution_count": 52,
     "metadata": {
      "tags": []
     },
     "output_type": "execute_result"
    }
   ],
   "source": [
    "x = np.random.binomial(n=100,p=0.4) #表がでる確率 0.4 で 100 回コイン投げした結果，何回表が出たか．\n",
    "x"
   ]
  },
  {
   "cell_type": "markdown",
   "metadata": {
    "colab_type": "text",
    "id": "fSgSjXC7MKbc"
   },
   "source": [
    "ポアソン分布"
   ]
  },
  {
   "cell_type": "code",
   "execution_count": 0,
   "metadata": {
    "colab": {
     "base_uri": "https://localhost:8080/",
     "height": 34
    },
    "colab_type": "code",
    "executionInfo": {
     "elapsed": 527,
     "status": "ok",
     "timestamp": 1544882809901,
     "user": {
      "displayName": "Taiji Suzuki",
      "photoUrl": "https://lh5.googleusercontent.com/-v6c-S2veRaY/AAAAAAAAAAI/AAAAAAAAAAA/RtwtfdQn2-g/s64/photo.jpg",
      "userId": "08886137675846818283"
     },
     "user_tz": -540
    },
    "id": "_IEPIwtXMDFx",
    "outputId": "cad66fa7-d8d3-4c62-921d-a221da10cd33"
   },
   "outputs": [
    {
     "data": {
      "text/plain": [
       "5"
      ]
     },
     "execution_count": 54,
     "metadata": {
      "tags": []
     },
     "output_type": "execute_result"
    }
   ],
   "source": [
    "x = np.random.poisson(lam=3) #パラメータλ=10 のポアソン分布 \n",
    "x"
   ]
  },
  {
   "cell_type": "code",
   "execution_count": 0,
   "metadata": {
    "colab": {
     "base_uri": "https://localhost:8080/",
     "height": 70
    },
    "colab_type": "code",
    "executionInfo": {
     "elapsed": 522,
     "status": "ok",
     "timestamp": 1544882873492,
     "user": {
      "displayName": "Taiji Suzuki",
      "photoUrl": "https://lh5.googleusercontent.com/-v6c-S2veRaY/AAAAAAAAAAI/AAAAAAAAAAA/RtwtfdQn2-g/s64/photo.jpg",
      "userId": "08886137675846818283"
     },
     "user_tz": -540
    },
    "id": "PWyaSwWHMN8B",
    "outputId": "a469cff2-720c-4ce5-c616-f3973feb7742"
   },
   "outputs": [
    {
     "data": {
      "text/plain": [
       "array([[2, 2, 3, 1],\n",
       "       [6, 3, 2, 4],\n",
       "       [6, 3, 5, 3]])"
      ]
     },
     "execution_count": 57,
     "metadata": {
      "tags": []
     },
     "output_type": "execute_result"
    }
   ],
   "source": [
    "x = np.random.poisson(lam=3,size=(3,4)) #サイズを指定して，各成分がポアソン分布に従うランダム行列を生成\n",
    "x"
   ]
  },
  {
   "cell_type": "markdown",
   "metadata": {
    "colab_type": "text",
    "id": "8syoH63sMfs8"
   },
   "source": [
    "# **条件分岐と For 分**"
   ]
  },
  {
   "cell_type": "markdown",
   "metadata": {
    "colab_type": "text",
    "id": "vWUY_dPuMrve"
   },
   "source": [
    "if文"
   ]
  },
  {
   "cell_type": "code",
   "execution_count": 0,
   "metadata": {
    "colab": {
     "base_uri": "https://localhost:8080/",
     "height": 52
    },
    "colab_type": "code",
    "executionInfo": {
     "elapsed": 548,
     "status": "ok",
     "timestamp": 1544883280751,
     "user": {
      "displayName": "Taiji Suzuki",
      "photoUrl": "https://lh5.googleusercontent.com/-v6c-S2veRaY/AAAAAAAAAAI/AAAAAAAAAAA/RtwtfdQn2-g/s64/photo.jpg",
      "userId": "08886137675846818283"
     },
     "user_tz": -540
    },
    "id": "fEPkNFfPMYSC",
    "outputId": "d065c498-78a9-4b81-dd7c-fe392a7cfed3"
   },
   "outputs": [
    {
     "name": "stdout",
     "output_type": "stream",
     "text": [
      "アメリカです\n",
      "日本ではありません\n"
     ]
    }
   ],
   "source": [
    "domain = \"us\"\n",
    "if domain == \"jp\": \n",
    "  print(u\"日本です\") \n",
    "elif domain == \"us\": \n",
    "  print(u\"アメリカです\") \n",
    "else: \n",
    "  print(u\"その他の国です\")\n",
    "  \n",
    "if domain != \"jp\":\n",
    "  print(u\"日本ではありません\")"
   ]
  },
  {
   "cell_type": "markdown",
   "metadata": {
    "colab_type": "text",
    "id": "HJ-a58-fOIwj"
   },
   "source": [
    "比較演算子の==とisは全く異なる機能を持っている．\n",
    "\n",
    "==は配列の値が等しければTrueを返す．\n",
    "\n",
    "isは同じオブジェクト（配列のアドレスが等しければ）Trueを返す．"
   ]
  },
  {
   "cell_type": "code",
   "execution_count": 0,
   "metadata": {
    "colab": {
     "base_uri": "https://localhost:8080/",
     "height": 52
    },
    "colab_type": "code",
    "executionInfo": {
     "elapsed": 521,
     "status": "ok",
     "timestamp": 1544883407749,
     "user": {
      "displayName": "Taiji Suzuki",
      "photoUrl": "https://lh5.googleusercontent.com/-v6c-S2veRaY/AAAAAAAAAAI/AAAAAAAAAAA/RtwtfdQn2-g/s64/photo.jpg",
      "userId": "08886137675846818283"
     },
     "user_tz": -540
    },
    "id": "SFrbECnsMpE4",
    "outputId": "51e968a4-3da5-41dd-d61d-a94a301d9e79"
   },
   "outputs": [
    {
     "name": "stdout",
     "output_type": "stream",
     "text": [
      "==: true\n",
      "is not: true\n"
     ]
    }
   ],
   "source": [
    "x = [1,2,3]\n",
    "y = [1,2,3]\n",
    "if x == y:\n",
    "  print(\"==: true\")\n",
    "if x is not y:\n",
    "  print(\"is not: true\")"
   ]
  },
  {
   "cell_type": "markdown",
   "metadata": {
    "colab_type": "text",
    "id": "l9kBQrLfOktw"
   },
   "source": [
    "For文"
   ]
  },
  {
   "cell_type": "code",
   "execution_count": 0,
   "metadata": {
    "colab": {
     "base_uri": "https://localhost:8080/",
     "height": 34
    },
    "colab_type": "code",
    "executionInfo": {
     "elapsed": 528,
     "status": "ok",
     "timestamp": 1544883465904,
     "user": {
      "displayName": "Taiji Suzuki",
      "photoUrl": "https://lh5.googleusercontent.com/-v6c-S2veRaY/AAAAAAAAAAI/AAAAAAAAAAA/RtwtfdQn2-g/s64/photo.jpg",
      "userId": "08886137675846818283"
     },
     "user_tz": -540
    },
    "id": "WbPki68vNImg",
    "outputId": "f8872088-387f-4937-ecd5-ce128e379604"
   },
   "outputs": [
    {
     "data": {
      "text/plain": [
       "array([0., 1., 2., 3., 4., 5., 6., 7., 8., 9.])"
      ]
     },
     "execution_count": 73,
     "metadata": {
      "tags": []
     },
     "output_type": "execute_result"
    }
   ],
   "source": [
    "x = np.zeros(10) \n",
    "for i in range(10): #0 から 9 までループ\n",
    "  x[i] = i\n",
    "x"
   ]
  },
  {
   "cell_type": "markdown",
   "metadata": {
    "colab_type": "text",
    "id": "f3vEC0GBPM7g"
   },
   "source": [
    "enumerate でループする際にインデックスつきで要素を得ることができる．"
   ]
  },
  {
   "cell_type": "code",
   "execution_count": 0,
   "metadata": {
    "colab": {
     "base_uri": "https://localhost:8080/",
     "height": 34
    },
    "colab_type": "code",
    "executionInfo": {
     "elapsed": 480,
     "status": "ok",
     "timestamp": 1544883499626,
     "user": {
      "displayName": "Taiji Suzuki",
      "photoUrl": "https://lh5.googleusercontent.com/-v6c-S2veRaY/AAAAAAAAAAI/AAAAAAAAAAA/RtwtfdQn2-g/s64/photo.jpg",
      "userId": "08886137675846818283"
     },
     "user_tz": -540
    },
    "id": "dM4n6bt5OqPv",
    "outputId": "0663a4b7-da21-4443-a06f-bc97a400e575"
   },
   "outputs": [
    {
     "data": {
      "text/plain": [
       "array([4., 5., 6., 7., 8., 9.])"
      ]
     },
     "execution_count": 74,
     "metadata": {
      "tags": []
     },
     "output_type": "execute_result"
    }
   ],
   "source": [
    "x = np.zeros(6)\n",
    "for i,j in enumerate(range(4,10)):\n",
    "  x[i] = j\n",
    "x"
   ]
  },
  {
   "cell_type": "code",
   "execution_count": 0,
   "metadata": {
    "colab": {},
    "colab_type": "code",
    "id": "LQ2U5sfdO3A2"
   },
   "outputs": [],
   "source": [
    " x = [i**2 for i in range(10)] #このような書き方もある． "
   ]
  },
  {
   "cell_type": "markdown",
   "metadata": {
    "colab_type": "text",
    "id": "r9lcsA7nPQhO"
   },
   "source": [
    "zip で二つのリストを同時にループできる．"
   ]
  },
  {
   "cell_type": "code",
   "execution_count": 0,
   "metadata": {
    "colab": {
     "base_uri": "https://localhost:8080/",
     "height": 70
    },
    "colab_type": "code",
    "executionInfo": {
     "elapsed": 487,
     "status": "ok",
     "timestamp": 1544883553283,
     "user": {
      "displayName": "Taiji Suzuki",
      "photoUrl": "https://lh5.googleusercontent.com/-v6c-S2veRaY/AAAAAAAAAAI/AAAAAAAAAAA/RtwtfdQn2-g/s64/photo.jpg",
      "userId": "08886137675846818283"
     },
     "user_tz": -540
    },
    "id": "Ohvqg-8GO7Fm",
    "outputId": "f6ca6b74-868f-4793-c70f-0f76795c466b"
   },
   "outputs": [
    {
     "name": "stdout",
     "output_type": "stream",
     "text": [
      "1 4\n",
      "2 5\n",
      "3 6\n"
     ]
    }
   ],
   "source": [
    "list1 = [1, 2, 3]\n",
    "list2 = [4, 5, 6]\n",
    "for (a, b) in zip(list1, list2): #list1,list2 を同時にループ\n",
    "  print(a,b)"
   ]
  },
  {
   "cell_type": "code",
   "execution_count": 0,
   "metadata": {
    "colab": {
     "base_uri": "https://localhost:8080/",
     "height": 52
    },
    "colab_type": "code",
    "executionInfo": {
     "elapsed": 487,
     "status": "ok",
     "timestamp": 1544883569098,
     "user": {
      "displayName": "Taiji Suzuki",
      "photoUrl": "https://lh5.googleusercontent.com/-v6c-S2veRaY/AAAAAAAAAAI/AAAAAAAAAAA/RtwtfdQn2-g/s64/photo.jpg",
      "userId": "08886137675846818283"
     },
     "user_tz": -540
    },
    "id": "iuvv-v_bPEHO",
    "outputId": "5059b70e-08aa-4d61-c65a-ff6500df8864"
   },
   "outputs": [
    {
     "name": "stdout",
     "output_type": "stream",
     "text": [
      "1 7\n",
      "2 8\n"
     ]
    }
   ],
   "source": [
    "list3 = [7, 8]\n",
    "for (a, b) in zip(list1, list3): #要素数が少ないリストに合わせてループ \n",
    "  print(a,b)"
   ]
  },
  {
   "cell_type": "markdown",
   "metadata": {
    "colab_type": "text",
    "id": "EAbpNklkPZko"
   },
   "source": [
    "# **図の描画**\n",
    "図は matplotlib を使えば描画できる．"
   ]
  },
  {
   "cell_type": "code",
   "execution_count": 0,
   "metadata": {
    "colab": {
     "base_uri": "https://localhost:8080/",
     "height": 347
    },
    "colab_type": "code",
    "executionInfo": {
     "elapsed": 665,
     "status": "ok",
     "timestamp": 1544883726177,
     "user": {
      "displayName": "Taiji Suzuki",
      "photoUrl": "https://lh5.googleusercontent.com/-v6c-S2veRaY/AAAAAAAAAAI/AAAAAAAAAAA/RtwtfdQn2-g/s64/photo.jpg",
      "userId": "08886137675846818283"
     },
     "user_tz": -540
    },
    "id": "VZWx2icAPH-X",
    "outputId": "0e2376ac-5e2e-431b-d0b0-206192fbf341"
   },
   "outputs": [
    {
     "data": {
      "image/png": "[encoded data removed]",
      "text/plain": [
       "<matplotlib.figure.Figure at 0x7fcf3b35e390>"
      ]
     },
     "metadata": {
      "tags": []
     },
     "output_type": "display_data"
    }
   ],
   "source": [
    "import matplotlib.pyplot as plt  #描画用のmatplotlib.pyplotモジュールをインポート\n",
    "x = np.random.randn(10)\n",
    "b = 2\n",
    "y = b*x + np.random.randn(10)*0.3\n",
    "xx = np.linspace(min(x),max(x),100)\n",
    "plt.plot(x,y,\"*\")\n",
    "line1 = plt.plot(xx,b*xx,label='true line') #label は凡例のラベル\n",
    "plt.legend() #凡例を表示\n",
    "plt.show()"
   ]
  },
  {
   "cell_type": "code",
   "execution_count": 0,
   "metadata": {
    "colab": {},
    "colab_type": "code",
    "id": "9onemLYuPlBG"
   },
   "outputs": [],
   "source": []
  }
 ],
 "metadata": {
  "colab": {
   "collapsed_sections": [
    "mnWGJS-3Hnsf",
    "tCRSZjtjIiJm",
    "FoKR_c0NJVIT",
    "8syoH63sMfs8",
    "EAbpNklkPZko"
   ],
   "name": "Pythonの基本的な文法.ipynb のコピー",
   "provenance": [
    {
     "file_id": "1fjgJBfYusMDYpbvoRHNLPCMWyELq3U9m",
     "timestamp": 1545049187281
    }
   ],
   "version": "0.3.2"
  },
  "kernelspec": {
   "display_name": "Python 3",
   "language": "python",
   "name": "python3"
  },
  "language_info": {
   "codemirror_mode": {
    "name": "ipython",
    "version": 3
   },
   "file_extension": ".py",
   "mimetype": "text/x-python",
   "name": "python",
   "nbconvert_exporter": "python",
   "pygments_lexer": "ipython3",
   "version": "3.6.6"
  }
 },
 "nbformat": 4,
 "nbformat_minor": 1
}
