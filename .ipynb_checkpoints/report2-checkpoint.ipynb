{
 "cells": [
  {
   "cell_type": "markdown",
   "metadata": {},
   "source": [
    "# 課題2\n",
    "fetch_mldataが正月あたりからうまく行かなくなったため，mnistのデータをlocalに保存して，jupyter notebookで実行した．\n",
    "ConvergenceWarningが出たため，いくつかmax_iterを変更した．"
   ]
  },
  {
   "cell_type": "code",
   "execution_count": 10,
   "metadata": {
    "colab": {
     "base_uri": "https://localhost:8080/",
     "height": 1785
    },
    "colab_type": "code",
    "executionInfo": {
     "elapsed": 94500,
     "status": "error",
     "timestamp": 1546691143476,
     "user": {
      "displayName": "rau osi",
      "photoUrl": "",
      "userId": "18333478647822311413"
     },
     "user_tz": -540
    },
    "id": "kNG5ujGUteXd",
    "outputId": "77e4ac06-dcdb-4cf5-ed67-f0a55f00c098"
   },
   "outputs": [
    {
     "name": "stderr",
     "output_type": "stream",
     "text": [
      "/home/ochir/anaconda3/lib/python3.6/site-packages/sklearn/utils/deprecation.py:77: DeprecationWarning: Function fetch_mldata is deprecated; fetch_mldata was deprecated in version 0.20 and will be removed in version 0.22\n",
      "  warnings.warn(msg, category=DeprecationWarning)\n",
      "/home/ochir/anaconda3/lib/python3.6/site-packages/sklearn/utils/deprecation.py:77: DeprecationWarning: Function mldata_filename is deprecated; mldata_filename was deprecated in version 0.20 and will be removed in version 0.22\n",
      "  warnings.warn(msg, category=DeprecationWarning)\n"
     ]
    }
   ],
   "source": [
    "import numpy as np\n",
    "from sklearn import datasets\n",
    "from sklearn import linear_model\n",
    "from sklearn.svm import SVC\n",
    "import matplotlib.pyplot as plt\n",
    "from sklearn.metrics import mean_squared_error\n",
    "import sklearn.metrics as skmet\n",
    "import warnings\n",
    "warnings.filterwarnings(\"ignore\", category=FutureWarning)\n",
    "from PIL import Image\n",
    "from sklearn.datasets import fetch_mldata\n",
    "from sklearn.linear_model import LogisticRegression\n",
    "\n",
    "mnist = fetch_mldata('MNIST original', data_home=\"./\")\n",
    "(n,p) = mnist.data.shape\n",
    "tmp = np.random.permutation(n)\n",
    "index = tmp[:10000]\n",
    "index_test = tmp[10000:-1]\n",
    "\n",
    "X, X_te = np.split(mnist.data[tmp], [10000])\n",
    "y, y_te = np.split(mnist.target[tmp], [10000])\n"
   ]
  },
  {
   "cell_type": "code",
   "execution_count": 11,
   "metadata": {
    "colab": {},
    "colab_type": "code",
    "id": "dSa-AwViti8v"
   },
   "outputs": [
    {
     "name": "stdout",
     "output_type": "stream",
     "text": [
      "0.8499166666666667\n"
     ]
    }
   ],
   "source": [
    "logisticRegr = LogisticRegression() #(C=100, random_state=10, solver=\"warn\")\n",
    "logisticRegr.set_params(max_iter=200)\n",
    "logisticRegr.fit(X,y)\n",
    "y_pred = logisticRegr.predict(X_te)\n",
    "print(skmet.accuracy_score(y_te, y_pred))"
   ]
  },
  {
   "cell_type": "code",
   "execution_count": 12,
   "metadata": {
    "colab": {
     "base_uri": "https://localhost:8080/",
     "height": 237
    },
    "colab_type": "code",
    "executionInfo": {
     "elapsed": 723,
     "status": "error",
     "timestamp": 1546503102083,
     "user": {
      "displayName": "rau osi",
      "photoUrl": "",
      "userId": "18333478647822311413"
     },
     "user_tz": -540
    },
    "id": "KqMJJtHKx9nE",
    "outputId": "d4cf5ed5-3f2b-4e14-f75b-c47d6779f86c"
   },
   "outputs": [
    {
     "data": {
      "image/png": "[encoded data removed]",
      "text/plain": [
       "<Figure size 1440x288 with 25 Axes>"
      ]
     },
     "metadata": {
      "needs_background": "light"
     },
     "output_type": "display_data"
    }
   ],
   "source": [
    "index = 0\n",
    "misclassifiedIndexes = []\n",
    "for label, predict in zip(y_te, y_pred):\n",
    " if label != predict: \n",
    "  misclassifiedIndexes.append(index)\n",
    "  index +=1\n",
    "plt.figure(figsize=(20,4))\n",
    "for plotIndex, badIndex in enumerate(misclassifiedIndexes[0:25]):\n",
    " plt.subplot(5, 5, plotIndex + 1)\n",
    " plt.imshow(np.reshape(X_te[badIndex], (28,28)), cmap=plt.cm.gray)\n",
    "# plt.title(‘Predicted: {}, Actual: {}’.format(predictions[badIndex], test_lbl[badIndex]), fontsize = 15)"
   ]
  },
  {
   "cell_type": "code",
   "execution_count": 13,
   "metadata": {
    "colab": {
     "base_uri": "https://localhost:8080/",
     "height": 34
    },
    "colab_type": "code",
    "executionInfo": {
     "elapsed": 779862,
     "status": "ok",
     "timestamp": 1546432875400,
     "user": {
      "displayName": "rau osi",
      "photoUrl": "",
      "userId": "18333478647822311413"
     },
     "user_tz": -540
    },
    "id": "SfYr6MjxiNKW",
    "outputId": "71db4f31-d0a7-45df-e066-376e755e8dd8"
   },
   "outputs": [
    {
     "name": "stdout",
     "output_type": "stream",
     "text": [
      "0.8526666666666667\n"
     ]
    }
   ],
   "source": [
    "logisticRegr = LogisticRegression() #(C=100, random_state=10, solver=\"warn\")\n",
    "logisticRegr.set_params(max_iter=150, C = 0.1)\n",
    "logisticRegr.fit(X,y)\n",
    "y_pred = logisticRegr.predict(X_te)\n",
    "print(skmet.accuracy_score(y_te, y_pred))"
   ]
  },
  {
   "cell_type": "code",
   "execution_count": 14,
   "metadata": {
    "colab": {
     "base_uri": "https://localhost:8080/",
     "height": 69
    },
    "colab_type": "code",
    "executionInfo": {
     "elapsed": 1835835,
     "status": "ok",
     "timestamp": 1546433952559,
     "user": {
      "displayName": "rau osi",
      "photoUrl": "",
      "userId": "18333478647822311413"
     },
     "user_tz": -540
    },
    "id": "4oxYm1M1iTth",
    "outputId": "15698361-bdbe-40e9-a41e-04ff1c3cc80e"
   },
   "outputs": [
    {
     "name": "stdout",
     "output_type": "stream",
     "text": [
      "0.8479166666666667\n"
     ]
    }
   ],
   "source": [
    "logisticRegr = LogisticRegression() #(C=100, random_state=10, solver=\"warn\")\n",
    "logisticRegr.set_params(max_iter=200, C = 10)\n",
    "logisticRegr.fit(X,y)\n",
    "y_pred = logisticRegr.predict(X_te)\n",
    "print(skmet.accuracy_score(y_te, y_pred))"
   ]
  },
  {
   "cell_type": "code",
   "execution_count": 15,
   "metadata": {
    "colab": {
     "base_uri": "https://localhost:8080/",
     "height": 69
    },
    "colab_type": "code",
    "executionInfo": {
     "elapsed": 2870515,
     "status": "ok",
     "timestamp": 1546435004235,
     "user": {
      "displayName": "rau osi",
      "photoUrl": "",
      "userId": "18333478647822311413"
     },
     "user_tz": -540
    },
    "id": "F2OJR7nZiYfl",
    "outputId": "9fd03e72-f853-4216-b1c7-34f012c67c2d"
   },
   "outputs": [
    {
     "name": "stdout",
     "output_type": "stream",
     "text": [
      "0.8473666666666667\n"
     ]
    }
   ],
   "source": [
    "logisticRegr = LogisticRegression() #(C=100, random_state=10, solver=\"warn\")\n",
    "logisticRegr.set_params(max_iter=200, C = 100)\n",
    "logisticRegr.fit(X,y)\n",
    "y_pred = logisticRegr.predict(X_te)\n",
    "print(skmet.accuracy_score(y_te, y_pred))"
   ]
  },
  {
   "cell_type": "code",
   "execution_count": null,
   "metadata": {},
   "outputs": [],
   "source": []
  }
 ],
 "metadata": {
  "accelerator": "GPU",
  "colab": {
   "collapsed_sections": [],
   "name": "report2.ipynb",
   "provenance": [],
   "version": "0.3.2"
  },
  "kernelspec": {
   "display_name": "Python 3",
   "language": "python",
   "name": "python3"
  },
  "language_info": {
   "codemirror_mode": {
    "name": "ipython",
    "version": 3
   },
   "file_extension": ".py",
   "mimetype": "text/x-python",
   "name": "python",
   "nbconvert_exporter": "python",
   "pygments_lexer": "ipython3",
   "version": "3.6.6"
  }
 },
 "nbformat": 4,
 "nbformat_minor": 1
}
